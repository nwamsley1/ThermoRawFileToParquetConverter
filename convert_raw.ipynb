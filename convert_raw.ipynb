{
 "cells": [
  {
   "cell_type": "markdown",
   "id": "99e234a8-6410-4981-b8c8-3947106957e7",
   "metadata": {},
   "source": [
    "# "
   ]
  },
  {
   "cell_type": "markdown",
   "id": "093caf0e-14b1-4dbf-9440-6929b447b909",
   "metadata": {},
   "source": [
    "# Convert *.raw files using command line options\n",
    "\n",
    "1) <b>-d</b> flag sets directory to search for Thermo RawFileReader dll's\n",
    "2) <b>-n</b> flag specifies the number of threads to use\n",
    "3) <b>-sf</b> list of terms to search for in each scan header/filter. Scans that contain these words are ommited\n",
    "4) <b>-o</b> path to folder where the converted files will be saved"
   ]
  },
  {
   "cell_type": "code",
   "execution_count": null,
   "id": "687d92a5-10e6-4cac-a136-b5b85d49906c",
   "metadata": {},
   "outputs": [
    {
     "name": "stdout",
     "output_type": "stream",
     "text": [
      "PATH\n",
      "/Users/n.t.wamsley/Projects/ThermoRawFileToParquetConverter/libs/ThermoFisher.CommonCore.Data.dll\n",
      "PATH\n",
      "/Users/n.t.wamsley/Projects/ThermoRawFileToParquetConverter/libs/ThermoFisher.CommonCore.RawFileReader.dll\n",
      "Raw Files Directory: /Users/n.t.wamsley/RIS_temp/MATRIX_MATCHED_CAL_CURVES/\n",
      "Thermo dlls Directory:  ./libs\n",
      "Scan Filter Regex List:  ['ITMS']\n",
      "Scan Header Used:  False\n",
      "Number of Workers:  1\n",
      "Parquet File Output Folder:  /Users/n.t.wamsley/RIS_temp/MATRIX_MATCHED_CAL_CURVES/\n",
      "PATH\n",
      "/Users/n.t.wamsley/Projects/ThermoRawFileToParquetConverter/libs/ThermoFisher.CommonCore.Data.dll\n",
      "PATH\n",
      "/Users/n.t.wamsley/Projects/ThermoRawFileToParquetConverter/libs/ThermoFisher.CommonCore.RawFileReader.dll\n",
      "Processing raw file:  MOUSE_SIL_400FMOL_FAIMS_5uLLoop_gas403_voltage2150_fixedbugs_042724_01\n",
      "Reading Scans...\n",
      " 51%|█████████████████▉                 | 39221/76536 [00:14<00:17, 2088.83it/s]"
     ]
    }
   ],
   "source": [
    "!python3.9 raw_to_parquet.py /Users/n.t.wamsley/RIS_temp/MATRIX_MATCHED_CAL_CURVES/ -d ./libs -n 1 -o /Users/n.t.wamsley/RIS_temp/MATRIX_MATCHED_CAL_CURVES/"
   ]
  },
  {
   "cell_type": "code",
   "execution_count": 1,
   "id": "28a584fa-ad07-4bae-9053-181a60e8fe03",
   "metadata": {
    "tags": []
   },
   "outputs": [
    {
     "data": {
      "text/plain": [
       "{'raw_dir': '../raw',\n",
       " 'thermo_dlls': '../libs',\n",
       " 'scan_filter_regex_list': ['ITMS', 'kazoo'],\n",
       " 'num_workers': 12,\n",
       " 'parquet_out': './parquet_out'}"
      ]
     },
     "metadata": {},
     "output_type": "display_data"
    }
   ],
   "source": [
    "import json\n",
    "json_args_f = open('args.json')\n",
    "json_args = json.load(json_args_f)\n",
    "display(json_args)"
   ]
  },
  {
   "cell_type": "markdown",
   "id": "2efd386f-085b-4bde-9931-8bf31207b018",
   "metadata": {},
   "source": [
    "# Convert *.raw files using .json arguments\n",
    "In the previous example running the raw file converter using command line options generated a \"args.json\"\n",
    "file specifying the options. Rather than supplying options through flags in the command line, a simple .json\n",
    "file can be specified. "
   ]
  },
  {
   "cell_type": "code",
   "execution_count": null,
   "id": "aea52666-da4a-4c72-8c40-2e77772d2d98",
   "metadata": {},
   "outputs": [],
   "source": [
    "!python3 raw_to_parquet.py args.json"
   ]
  },
  {
   "cell_type": "code",
   "execution_count": 4,
   "id": "9a14c951-c7e0-49d4-9694-49f8f4e4d976",
   "metadata": {
    "tags": []
   },
   "outputs": [],
   "source": [
    "import argparse\n",
    "import sys\n",
    "import os \n",
    "from os import listdir\n",
    "from os.path import isfile, join\n",
    "import time\n",
    "from collections import defaultdict\n",
    "import clr #From pythonnet package\n",
    "#Paths to thermo dlls\n",
    "import os\n",
    "from os.path import abspath\n",
    "thermo_data_path = abspath(os.path.join(\"./libs/ThermoFisher.CommonCore.Data.dll\"))\n",
    "thermo_rawfilereader_path = abspath(os.path.join(\"./libs/ThermoFisher.CommonCore.RawFileReader.dll\"))"
   ]
  },
  {
   "cell_type": "code",
   "execution_count": 6,
   "id": "520f14d8-2b23-44af-b7e7-6b7d2c9e1edb",
   "metadata": {
    "tags": []
   },
   "outputs": [
    {
     "name": "stdout",
     "output_type": "stream",
     "text": [
      "PATH\n",
      "/Users/n.t.wamsley/Projects/ThermoRawFileToParquetConverter/libs/ThermoFisher.CommonCore.Data.dll\n",
      "PATH\n",
      "/Users/n.t.wamsley/Projects/ThermoRawFileToParquetConverter/libs/ThermoFisher.CommonCore.RawFileReader.dll\n"
     ]
    }
   ],
   "source": [
    "for path in [thermo_data_path, thermo_rawfilereader_path]:\n",
    "    if not os.path.isfile(path):\n",
    "        raise Exception(\"The file: \" + path + \" does not exist!\")\n",
    "    else:\n",
    "        print(\"PATH\")\n",
    "        print(path)\n",
    "        clr.AddReference(path)"
   ]
  },
  {
   "cell_type": "code",
   "execution_count": 7,
   "id": "4bad0487-c3c6-4363-b82c-e2e539ad6e8d",
   "metadata": {
    "tags": []
   },
   "outputs": [],
   "source": [
    "from ThermoFisher.CommonCore.RawFileReader import RawFileReaderAdapter\n",
    "from ThermoFisher.CommonCore.Data.Business import Device, Scan\n",
    "from ThermoFisher.CommonCore.Data.Interfaces import IScanFilter\n",
    "from ThermoFisher.CommonCore.Data.FilterEnums import MassAnalyzerType, MSOrderType"
   ]
  },
  {
   "cell_type": "code",
   "execution_count": 14,
   "id": "c9b8b4ae-d025-4d1d-8848-b1058f32a130",
   "metadata": {
    "tags": []
   },
   "outputs": [],
   "source": [
    "raw_file_paths = ['/Users/n.t.wamsley/TEST_DATA/PXD046444/20230324_OLEP08_800ng_30min_E5H50Y45_180K_2Th3p5ms_01.raw']"
   ]
  },
  {
   "cell_type": "code",
   "execution_count": 10,
   "id": "fba0d9f0-7e4c-488c-90ca-13d388a7cf8c",
   "metadata": {
    "tags": []
   },
   "outputs": [],
   "source": [
    "import struct\n",
    "import pyarrow as pa\n",
    "import pyarrow.parquet as pq\n",
    "import pyarrow.csv as csv\n",
    "import pyarrow.dataset as dataset\n",
    "import gc\n",
    "import numpy as np\n"
   ]
  },
  {
   "cell_type": "code",
   "execution_count": 11,
   "id": "a532b500-3bbf-4440-9683-5044d05ee533",
   "metadata": {
    "tags": []
   },
   "outputs": [
    {
     "ename": "NameError",
     "evalue": "name 'Scans' is not defined",
     "output_type": "error",
     "traceback": [
      "\u001b[0;31m---------------------------------------------------------------------------\u001b[0m",
      "\u001b[0;31mNameError\u001b[0m                                 Traceback (most recent call last)",
      "Cell \u001b[0;32mIn[11], line 1\u001b[0m\n\u001b[0;32m----> 1\u001b[0m scans \u001b[38;5;241m=\u001b[39m \u001b[43mScans\u001b[49m()\n",
      "\u001b[0;31mNameError\u001b[0m: name 'Scans' is not defined"
     ]
    }
   ],
   "source": [
    " scans = Scans()"
   ]
  },
  {
   "cell_type": "code",
   "execution_count": 17,
   "id": "fa1c5b8c-bf7f-43de-92e6-4531a5b186d0",
   "metadata": {
    "tags": []
   },
   "outputs": [],
   "source": [
    "rawFile = RawFileReaderAdapter.FileFactory(raw_file_paths[0])\n",
    "rawFile.SelectInstrument(Device.MS, 1)\n"
   ]
  },
  {
   "cell_type": "code",
   "execution_count": 18,
   "id": "4a2283f2-064a-4cf4-942f-f960f58bb185",
   "metadata": {
    "tags": []
   },
   "outputs": [],
   "source": [
    "    first_scan_number = rawFile.RunHeaderEx.FirstSpectrum\n",
    "    last_scan_number = rawFile.RunHeaderEx.LastSpectrum"
   ]
  },
  {
   "cell_type": "code",
   "execution_count": 23,
   "id": "5be21276-9d3b-437f-999b-9d0a92202e8b",
   "metadata": {
    "tags": []
   },
   "outputs": [],
   "source": [
    "test_stream = rawFile.GetCentroidStream(200000, False)"
   ]
  },
  {
   "cell_type": "code",
   "execution_count": 26,
   "id": "d896db6e-a270-4a33-8250-c7e0bd00b92c",
   "metadata": {
    "tags": []
   },
   "outputs": [
    {
     "data": {
      "text/plain": [
       "2570"
      ]
     },
     "execution_count": 26,
     "metadata": {},
     "output_type": "execute_result"
    }
   ],
   "source": [
    "len(np.array(test_stream.Masses))"
   ]
  },
  {
   "cell_type": "code",
   "execution_count": 30,
   "id": "c8e8d5f0-6974-4292-8aac-43aaf981934f",
   "metadata": {
    "tags": []
   },
   "outputs": [],
   "source": [
    "test_data = rawFile.GetSimplifiedScan(200000)"
   ]
  },
  {
   "cell_type": "code",
   "execution_count": 35,
   "id": "0528218b-16d5-47be-a32e-8fffe3af0d06",
   "metadata": {
    "tags": []
   },
   "outputs": [],
   "source": [
    "x = test_data.ToString()"
   ]
  },
  {
   "cell_type": "code",
   "execution_count": 37,
   "id": "4e8b1204-657a-49be-b5a4-c91e206dc550",
   "metadata": {
    "tags": []
   },
   "outputs": [],
   "source": [
    "scan_number = 200000"
   ]
  },
  {
   "cell_type": "code",
   "execution_count": 40,
   "id": "3da80c34-01bb-4e30-9578-c0c39e9bb591",
   "metadata": {
    "tags": []
   },
   "outputs": [],
   "source": [
    "        trailers = rawFile.GetTrailerExtraValues(scan_number)\n",
    "        trailer_labels = rawFile.GetTrailerExtraInformation(scan_number)\n",
    "        charge_state = 0"
   ]
  },
  {
   "cell_type": "code",
   "execution_count": 44,
   "id": "b3e5dba5-425e-4612-ae56-353087585bd3",
   "metadata": {
    "tags": []
   },
   "outputs": [
    {
     "ename": "NameError",
     "evalue": "name 'index_to_header_key_map' is not defined",
     "output_type": "error",
     "traceback": [
      "\u001b[0;31m---------------------------------------------------------------------------\u001b[0m",
      "\u001b[0;31mNameError\u001b[0m                                 Traceback (most recent call last)",
      "Cell \u001b[0;32mIn[44], line 1\u001b[0m\n\u001b[0;32m----> 1\u001b[0m {\u001b[38;5;124m'\u001b[39m\u001b[38;5;124mkey\u001b[39m\u001b[38;5;124m'\u001b[39m: \u001b[43mindex_to_header_key_map\u001b[49m[i]\u001b[38;5;241m.\u001b[39msplit(\u001b[38;5;124m\"\u001b[39m\u001b[38;5;124m:\u001b[39m\u001b[38;5;124m\"\u001b[39m)[\u001b[38;5;241m0\u001b[39m], \n\u001b[1;32m      2\u001b[0m                                         \u001b[38;5;124m'\u001b[39m\u001b[38;5;124mvalue\u001b[39m\u001b[38;5;124m'\u001b[39m: \u001b[38;5;28mstr\u001b[39m(rawFile\u001b[38;5;241m.\u001b[39mGetTrailerExtraValue(scan_number, i))\u001b[38;5;241m.\u001b[39mstrip()}\n",
      "\u001b[0;31mNameError\u001b[0m: name 'index_to_header_key_map' is not defined"
     ]
    }
   ],
   "source": [
    "{'key': index_to_header_key_map[i].split(\":\")[0], \n",
    "                                        'value': str(rawFile.GetTrailerExtraValue(scan_number, i)).strip()}"
   ]
  },
  {
   "cell_type": "code",
   "execution_count": 46,
   "id": "5d05c65d-13a6-4873-991f-a0b1e18e71a4",
   "metadata": {
    "tags": []
   },
   "outputs": [],
   "source": [
    "test_data = rawFile.GetScanEventForScanNumber(scan_number)"
   ]
  },
  {
   "cell_type": "code",
   "execution_count": 48,
   "id": "4e26e24a-d647-49da-8140-4e01239b7da3",
   "metadata": {
    "tags": []
   },
   "outputs": [],
   "source": [
    "scan_data = test_data.get_ScanData()"
   ]
  },
  {
   "cell_type": "code",
   "execution_count": 54,
   "id": "09e41ad4-7086-4c87-b83f-7fad871b5a8b",
   "metadata": {
    "tags": []
   },
   "outputs": [],
   "source": [
    "a = rawFile.GetScanEventForScanNumber(scan_number).GetReaction(0)"
   ]
  },
  {
   "cell_type": "code",
   "execution_count": 55,
   "id": "f3ea159a-9289-4eee-bd77-879ba9091eb6",
   "metadata": {
    "tags": []
   },
   "outputs": [
    {
     "data": {
      "text/plain": [
       "651.54602"
      ]
     },
     "execution_count": 55,
     "metadata": {},
     "output_type": "execute_result"
    }
   ],
   "source": [
    "a.PrecursorMass"
   ]
  },
  {
   "cell_type": "code",
   "execution_count": 60,
   "id": "07b8540d-49d0-4bda-9905-c03a7a284aa8",
   "metadata": {
    "tags": []
   },
   "outputs": [],
   "source": [
    "index_to_header_key_map = defaultdict(str)\n",
    "\n",
    "\n",
    "if True:\n",
    "    logEntry = rawFile.GetTrailerExtraHeaderInformation()\n",
    "    t = 0\n",
    "    for i in logEntry:\n",
    "        if t >0:\n",
    "            index_to_header_key_map[t] = i.Label\n",
    "        t +=1"
   ]
  },
  {
   "cell_type": "code",
   "execution_count": 62,
   "id": "282cf2a0-606a-4800-8fe7-cf629d882ff3",
   "metadata": {
    "tags": []
   },
   "outputs": [],
   "source": [
    "scan_header = []\n",
    "for i in index_to_header_key_map.keys():\n",
    "    scan_header.append({'key': index_to_header_key_map[i].split(\":\")[0], \n",
    "                            'value': str(rawFile.GetTrailerExtraValue(scan_number, i)).strip()}) # TODO: Parse into correct datatype for each scan header. There are 40 of them\n"
   ]
  },
  {
   "cell_type": "code",
   "execution_count": 66,
   "id": "fa84d7cb-0249-42a7-8df4-bf5eaab04632",
   "metadata": {
    "tags": []
   },
   "outputs": [],
   "source": [
    "scan_stats = rawFile.GetScanStatsForScanNumber(scan_number)"
   ]
  },
  {
   "cell_type": "code",
   "execution_count": 70,
   "id": "c49e07fe-5ee4-4821-93d8-8acdb00b5855",
   "metadata": {
    "tags": []
   },
   "outputs": [],
   "source": [
    "a = scan_stats.ToString()"
   ]
  },
  {
   "cell_type": "code",
   "execution_count": 134,
   "id": "56cb32a1-bfaa-4ffb-8408-e27fc90fffe4",
   "metadata": {
    "tags": []
   },
   "outputs": [],
   "source": [
    "file_header = rawFile.GetScanEventForScanNumber(200000)"
   ]
  },
  {
   "cell_type": "code",
   "execution_count": 90,
   "id": "bc6a9db1-a090-4a61-bada-17c290f8459f",
   "metadata": {
    "tags": []
   },
   "outputs": [],
   "source": [
    "cid = file_header.get_HigherEnergyCiD().ToString()"
   ]
  },
  {
   "cell_type": "code",
   "execution_count": 91,
   "id": "7a3801ab-f139-407a-8da9-92aabb4a7808",
   "metadata": {
    "tags": []
   },
   "outputs": [
    {
     "data": {
      "text/plain": [
       "25.0"
      ]
     },
     "execution_count": 91,
     "metadata": {},
     "output_type": "execute_result"
    }
   ],
   "source": [
    "file_header.get_HigherEnergyCiDValue()"
   ]
  },
  {
   "cell_type": "code",
   "execution_count": 97,
   "id": "73e48a99-d862-44ee-9c97-98410cc643db",
   "metadata": {
    "tags": []
   },
   "outputs": [
    {
     "data": {
      "text/plain": [
       "'Full'"
      ]
     },
     "execution_count": 97,
     "metadata": {},
     "output_type": "execute_result"
    }
   ],
   "source": [
    "file_header.get_ScanMode().ToString()"
   ]
  },
  {
   "cell_type": "code",
   "execution_count": 99,
   "id": "b80423e7-02b5-4d26-8f29-9c4cca5c5498",
   "metadata": {
    "tags": []
   },
   "outputs": [],
   "source": [
    "a = file_header.get_ScanMode()"
   ]
  },
  {
   "cell_type": "code",
   "execution_count": 102,
   "id": "aa979756-cfbf-4d1e-bc60-450e2b4df56d",
   "metadata": {
    "tags": []
   },
   "outputs": [
    {
     "data": {
      "text/plain": [
       "'Ms2'"
      ]
     },
     "execution_count": 102,
     "metadata": {},
     "output_type": "execute_result"
    }
   ],
   "source": [
    "file_header.get_MSOrder().ToString()"
   ]
  },
  {
   "cell_type": "code",
   "execution_count": 118,
   "id": "4390a7a1-9e98-4d15-b72f-f09d6c66c3d1",
   "metadata": {
    "tags": []
   },
   "outputs": [],
   "source": [
    "scan_data = file_header.get_ScanData()"
   ]
  },
  {
   "cell_type": "code",
   "execution_count": 131,
   "id": "0fcdafd8-0c9a-4023-9794-f5bfb4ffd24a",
   "metadata": {
    "tags": []
   },
   "outputs": [
    {
     "data": {
      "text/plain": [
       "0.0"
      ]
     },
     "execution_count": 131,
     "metadata": {},
     "output_type": "execute_result"
    }
   ],
   "source": [
    "file_header.GetFirstPrecursorMass(0)"
   ]
  },
  {
   "cell_type": "code",
   "execution_count": 128,
   "id": "b3d211a1-52a5-49e1-afd0-d7f355d529d7",
   "metadata": {
    "tags": []
   },
   "outputs": [
    {
     "data": {
      "text/plain": [
       "2.0009096"
      ]
     },
     "execution_count": 128,
     "metadata": {},
     "output_type": "execute_result"
    }
   ],
   "source": [
    "file_header.GetIsolationWidth(0)"
   ]
  },
  {
   "cell_type": "code",
   "execution_count": 132,
   "id": "37e71fa6-aad4-4a53-963c-d035615cdb8a",
   "metadata": {
    "tags": []
   },
   "outputs": [
    {
     "data": {
      "text/plain": [
       "651.54602"
      ]
     },
     "execution_count": 132,
     "metadata": {},
     "output_type": "execute_result"
    }
   ],
   "source": [
    "file_header.GetMass(0)"
   ]
  },
  {
   "cell_type": "code",
   "execution_count": 139,
   "id": "ac8115ab-6333-49a7-8730-89e71b072dd6",
   "metadata": {
    "tags": []
   },
   "outputs": [],
   "source": [
    "test_range = file_header.GetMassRange(0)"
   ]
  },
  {
   "cell_type": "code",
   "execution_count": 140,
   "id": "73ad56d4-2e85-4555-a0aa-b838869573ef",
   "metadata": {
    "tags": []
   },
   "outputs": [
    {
     "data": {
      "text/plain": [
       "150.0"
      ]
     },
     "execution_count": 140,
     "metadata": {},
     "output_type": "execute_result"
    }
   ],
   "source": [
    "test_range.get_Low()"
   ]
  },
  {
   "cell_type": "code",
   "execution_count": 141,
   "id": "5a049bf5-918a-4e55-b12b-0555e00030de",
   "metadata": {
    "tags": []
   },
   "outputs": [
    {
     "data": {
      "text/plain": [
       "1351.19482421875"
      ]
     },
     "execution_count": 141,
     "metadata": {},
     "output_type": "execute_result"
    }
   ],
   "source": [
    "test_range.get_High()"
   ]
  },
  {
   "cell_type": "code",
   "execution_count": 143,
   "id": "82421015-b554-4a6d-b71e-d1841b683d5e",
   "metadata": {
    "tags": []
   },
   "outputs": [],
   "source": [
    "scan_stats = rawFile.GetScanStatsForScanNumber(scan_number)"
   ]
  },
  {
   "cell_type": "code",
   "execution_count": 146,
   "id": "362cb8e9-5622-4e25-90a4-ed0e054938fb",
   "metadata": {
    "tags": []
   },
   "outputs": [
    {
     "data": {
      "text/plain": [
       "25.0"
      ]
     },
     "execution_count": 146,
     "metadata": {},
     "output_type": "execute_result"
    }
   ],
   "source": [
    "file_header.GetEnergy(0)"
   ]
  },
  {
   "cell_type": "code",
   "execution_count": null,
   "id": "083b6a1b-6641-4fbc-bf3d-215a002ee7f9",
   "metadata": {},
   "outputs": [],
   "source": []
  }
 ],
 "metadata": {
  "kernelspec": {
   "display_name": "Python 3 (ipykernel)",
   "language": "python",
   "name": "python3"
  },
  "language_info": {
   "codemirror_mode": {
    "name": "ipython",
    "version": 3
   },
   "file_extension": ".py",
   "mimetype": "text/x-python",
   "name": "python",
   "nbconvert_exporter": "python",
   "pygments_lexer": "ipython3",
   "version": "3.9.18"
  }
 },
 "nbformat": 4,
 "nbformat_minor": 5
}
