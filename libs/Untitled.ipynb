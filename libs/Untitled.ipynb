{
 "cells": [
  {
   "cell_type": "code",
   "execution_count": 32,
   "id": "a59c0427-4294-4fcd-b8a1-bb9cd32b6cc9",
   "metadata": {
    "tags": []
   },
   "outputs": [],
   "source": [
    "var cities = new List<double>();\n",
    "cities.Add(-45.0);\n",
    "cities.Add(12);\n",
    "cities.Add(-60.0);"
   ]
  },
  {
   "cell_type": "code",
   "execution_count": 33,
   "id": "36c0b52b-7f33-41f3-bc5d-716ae9ed60b7",
   "metadata": {
    "tags": []
   },
   "outputs": [],
   "source": [
    "int pos = 0;\n",
    "for (int i = 0; i < cities.Count; i++)\n",
    "{\n",
    "    if (Math.Abs((cities[i]-10.0)) < Math.Abs(cities[pos]-10.0)) { pos = i; }\n",
    "}"
   ]
  },
  {
   "cell_type": "code",
   "execution_count": 34,
   "id": "206175fb-a4cb-4099-b2b7-640ab925b6e3",
   "metadata": {
    "tags": []
   },
   "outputs": [
    {
     "data": {
      "text/plain": [
       "-55"
      ]
     },
     "execution_count": 34,
     "metadata": {},
     "output_type": "execute_result"
    }
   ],
   "source": [
    "-45 - 10"
   ]
  },
  {
   "cell_type": "code",
   "execution_count": 35,
   "id": "43f00d28-9956-493c-b7a0-6a71a77726b0",
   "metadata": {
    "tags": []
   },
   "outputs": [
    {
     "data": {
      "text/plain": [
       "2"
      ]
     },
     "execution_count": 35,
     "metadata": {},
     "output_type": "execute_result"
    }
   ],
   "source": [
    "12 - 10"
   ]
  },
  {
   "cell_type": "code",
   "execution_count": 41,
   "id": "3d0a5125-932c-4b50-b766-41b0579c6329",
   "metadata": {
    "tags": []
   },
   "outputs": [
    {
     "data": {
      "text/plain": [
       "TESTB"
      ]
     },
     "execution_count": 41,
     "metadata": {},
     "output_type": "execute_result"
    }
   ],
   "source": [
    "string a = \"TEST\";\n",
    "\"TEST\"+\"B\"\n"
   ]
  },
  {
   "cell_type": "code",
   "execution_count": 38,
   "id": "dbf50eda-5023-4351-a2b9-f613b4baaad3",
   "metadata": {
    "tags": []
   },
   "outputs": [
    {
     "data": {
      "text/plain": [
       "12"
      ]
     },
     "execution_count": 38,
     "metadata": {},
     "output_type": "execute_result"
    }
   ],
   "source": [
    "cities[pos]"
   ]
  },
  {
   "cell_type": "code",
   "execution_count": 23,
   "id": "2c59c4e5-08d3-4fd5-9733-a0aab5abb1cc",
   "metadata": {
    "tags": []
   },
   "outputs": [
    {
     "ename": "Unhandled Exception",
     "evalue": "(1,14): error CS0746: Invalid anonymous type member declarator. Anonymous type members must be declared with a member assignment, simple name or member access.\n(1,19): error CS0746: Invalid anonymous type member declarator. Anonymous type members must be declared with a member assignment, simple name or member access.",
     "output_type": "error",
     "traceback": [
      "(1,14): error CS0746: Invalid anonymous type member declarator. Anonymous type members must be declared with a member assignment, simple name or member access.\n(1,19): error CS0746: Invalid anonymous type member declarator. Anonymous type members must be declared with a member assignment, simple name or member access."
     ]
    }
   ],
   "source": [
    "var a = new {1.0, 2.0};"
   ]
  },
  {
   "cell_type": "code",
   "execution_count": null,
   "id": "410c48f2-5267-4e04-9cff-403ddfad9603",
   "metadata": {},
   "outputs": [],
   "source": []
  }
 ],
 "metadata": {
  "kernelspec": {
   "display_name": ".NET (C#)",
   "language": "C#",
   "name": ".net-csharp"
  },
  "language_info": {
   "file_extension": ".cs",
   "mimetype": "text/x-csharp",
   "name": "C#",
   "pygments_lexer": "csharp",
   "version": "8.0"
  }
 },
 "nbformat": 4,
 "nbformat_minor": 5
}
